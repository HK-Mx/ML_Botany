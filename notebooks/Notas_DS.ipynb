{
 "cells": [
  {
   "cell_type": "markdown",
   "id": "b0b8d5e7",
   "metadata": {},
   "source": [
    "## PARAMETROS DE PESO:"
   ]
  },
  {
   "cell_type": "markdown",
   "id": "ae558cea",
   "metadata": {},
   "source": [
    "PESO DE MUESTRA VEGETAL---> Se analiza una pequeña muestra de cada planta (ej.0.08g), da una tasa de nitrogeno y otra de contenido de carbono en esa misma muestra.\n",
    "+ % de nitrogeno en la muestra\n",
    "+ % de carbono en la muestra \n",
    "\n",
    "SE REPITE EL PROCESO CON LOS FRUTOS. "
   ]
  },
  {
   "cell_type": "markdown",
   "id": "84fa94bb",
   "metadata": {},
   "source": [
    "-------------------------------------------------------------------------------------------------------------------------------------------------------------"
   ]
  },
  {
   "cell_type": "markdown",
   "id": "7686965b",
   "metadata": {},
   "source": [
    "RELACIONES DE NITROGENO Y CARBONO EN EL PESO TOTAL DE LA PLANTA DE CADA MUESTRA.\n",
    " "
   ]
  },
  {
   "cell_type": "markdown",
   "id": "b1d69ea3",
   "metadata": {},
   "source": [
    "-------------------------------------------------------------------------------------------------------------------------------------------------------------"
   ]
  },
  {
   "cell_type": "markdown",
   "id": "d9c776e6",
   "metadata": {},
   "source": [
    "#### (N1-N2-N3-N4) --> Parametros de absorción (3) y uso (1). NO TIENEN UNIDADES, SON SIMPLES TASA."
   ]
  },
  {
   "cell_type": "markdown",
   "id": "ab65db58",
   "metadata": {},
   "source": [
    "COLUMNAS VERDE OSCURO: Tenemos 6 plantas de cada variedad (Total de 120 variedades). El primer mes se cultivan con las mismas condiciones.\n",
    "+ Pasado el primer mes, se mantienen 3 al 50%N y 3 al 100%N, hasta el final del experimento.\n",
    "+ Pasados 20 dias desde el inicio del tratamiento diferencial se hace el primer testeo.\n",
    "- Primeros pesos frescos (Debido al escaso desarrollo de la planta pasados solo 20 dias, el peso del tallo y de la hoja se agrupan en una sola cifra.)\n",
    "- Primeros pesos secos \n",
    "+ Pasados +/- 5 meses, se extraen las plantas para su completo análisis.\n",
    "- Peso fresco del tallo\n",
    "- Peso fresco hojas\n",
    "- Peso fresco hoja + tallo (Parte aérea)\n",
    "- Peso fresco raíz\n",
    "+ Peso fresco TOTAL (Hoja + tallo + raíz)\n",
    "+ LOS MISMOS PARÁMETROS PERO EN SECO "
   ]
  },
  {
   "cell_type": "markdown",
   "id": "e781c20b",
   "metadata": {},
   "source": [
    "COLUMNAS NARANJAS: \n",
    "+ Numero total de frutos \n",
    "+ Peso medio del fruto \n",
    "+ Peso total de fruto en Fresco\n",
    "+ Peso total de fruto en Seco\n",
    "\n"
   ]
  },
  {
   "cell_type": "markdown",
   "id": "e6ed0c62",
   "metadata": {},
   "source": [
    "COLUMNAS AZUL OSCURO (BIOMASA):\n",
    "+ Peso total en Fresco (hoja, tallo, raíz, fruto)\n",
    "+ Peso total en Seco (hoja, tallo, raíz, fruto)"
   ]
  },
  {
   "cell_type": "markdown",
   "id": "5b71b064",
   "metadata": {},
   "source": [
    "COLUMNAS MARRONES:\n",
    "+ Relación entre biomasa y producción de fruto ---> Producción_fruto/Biomasa_total "
   ]
  },
  {
   "cell_type": "markdown",
   "id": "3f52ba81",
   "metadata": {},
   "source": [
    "COLUMNAS AMARILLAS:\n",
    "+ Parámetros fotosintéticos"
   ]
  },
  {
   "cell_type": "markdown",
   "id": "0f1ef8f9",
   "metadata": {},
   "source": [
    "La tésis consiste en generar una variedad de planta tomatera que tolere, absorba y aprobeche mejor el nitrogeno de la tierra, para reducir costes de producción y contaminación. Con ese objetivo se plantea el siguiente experimento: Tenemos 6 plantas de cada variedad, (120 variedades) y el primer mes se cultivan las 6 con las mismas condiciones. Pasado el primer mes se reduce la cantidad de de nitrogeno de 3 de esas 6 plantas(la mitad) al 50%. Pasados 20 dias desde la modificación en el nitrogeno, se realiza el primer análisis de las plantas(pesos frescos, pesos secos, y demás componentes). Y pasados +/- 5 meses se extraen las plantas para su completo análisis. \n",
    "El objetivo del modelo predictivo es mediante los valores obtenidos en el primer análisis(20 dias después del cambio en la tasa de nitrogeno en 3 de las 6 plantas de cada variedad) PREDECIR si esas plantas sirven para continuar con el experimento, sin necesidad de esperar esos 5 o 6 para que las plantas acaben de crecer. "
   ]
  },
  {
   "cell_type": "markdown",
   "id": "dd1daf60",
   "metadata": {},
   "source": []
  }
 ],
 "metadata": {
  "kernelspec": {
   "display_name": "data_analysis_env",
   "language": "python",
   "name": "python3"
  },
  "language_info": {
   "name": "python",
   "version": "3.11.11"
  }
 },
 "nbformat": 4,
 "nbformat_minor": 5
}
